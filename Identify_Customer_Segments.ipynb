{
 "cells": [
  {
   "cell_type": "markdown",
   "metadata": {},
   "source": [
    "# Project: Identify Customer Segments\n",
    "\n",
    "In this project, you will apply unsupervised learning techniques to identify segments of the population that form the core customer base for a mail-order sales company in Germany. These segments can then be used to direct marketing campaigns towards audiences that will have the highest expected rate of returns. The data that you will use has been provided by our partners at Bertelsmann Arvato Analytics, and represents a real-life data science task.\n",
    "\n",
    "This notebook will help you complete this task by providing a framework within which you will perform your analysis steps. In each step of the project, you will see some text describing the subtask that you will perform, followed by one or more code cells for you to complete your work. **Feel free to add additional code and markdown cells as you go along so that you can explore everything in precise chunks.** The code cells provided in the base template will outline only the major tasks, and will usually not be enough to cover all of the minor tasks that comprise it.\n",
    "\n",
    "It should be noted that while there will be precise guidelines on how you should handle certain tasks in the project, there will also be places where an exact specification is not provided. **There will be times in the project where you will need to make and justify your own decisions on how to treat the data.** These are places where there may not be only one way to handle the data. In real-life tasks, there may be many valid ways to approach an analysis task. One of the most important things you can do is clearly document your approach so that other scientists can understand the decisions you've made.\n",
    "\n",
    "At the end of most sections, there will be a Markdown cell labeled **Discussion**. In these cells, you will report your findings for the completed section, as well as document the decisions that you made in your approach to each subtask. **Your project will be evaluated not just on the code used to complete the tasks outlined, but also your communication about your observations and conclusions at each stage.**"
   ]
  },
  {
   "cell_type": "code",
   "execution_count": 149,
   "metadata": {},
   "outputs": [],
   "source": [
    "# import libraries here; add more as necessary\n",
    "import numpy as np\n",
    "import pandas as pd\n",
    "import matplotlib.pyplot as plt\n",
    "import seaborn as sns\n",
    "\n",
    "# magic word for producing visualizations in notebook\n",
    "%matplotlib inline"
   ]
  },
  {
   "cell_type": "markdown",
   "metadata": {},
   "source": [
    "### Step 0: Load the Data\n",
    "\n",
    "There are four files associated with this project (not including this one):\n",
    "\n",
    "- `Udacity_AZDIAS_Subset.csv`: Demographics data for the general population of Germany; 891211 persons (rows) x 85 features (columns).\n",
    "- `Udacity_CUSTOMERS_Subset.csv`: Demographics data for customers of a mail-order company; 191652 persons (rows) x 85 features (columns).\n",
    "- `Data_Dictionary.md`: Detailed information file about the features in the provided datasets.\n",
    "- `AZDIAS_Feature_Summary.csv`: Summary of feature attributes for demographics data; 85 features (rows) x 4 columns\n",
    "\n",
    "Each row of the demographics files represents a single person, but also includes information outside of individuals, including information about their household, building, and neighborhood. You will use this information to cluster the general population into groups with similar demographic properties. Then, you will see how the people in the customers dataset fit into those created clusters. The hope here is that certain clusters are over-represented in the customers data, as compared to the general population; those over-represented clusters will be assumed to be part of the core userbase. This information can then be used for further applications, such as targeting for a marketing campaign.\n",
    "\n",
    "To start off with, load in the demographics data for the general population into a pandas DataFrame, and do the same for the feature attributes summary. Note for all of the `.csv` data files in this project: they're semicolon (`;`) delimited, so you'll need an additional argument in your [`read_csv()`](https://pandas.pydata.org/pandas-docs/stable/generated/pandas.read_csv.html) call to read in the data properly. Also, considering the size of the main dataset, it may take some time for it to load completely.\n",
    "\n",
    "Once the dataset is loaded, it's recommended that you take a little bit of time just browsing the general structure of the dataset and feature summary file. You'll be getting deep into the innards of the cleaning in the first major step of the project, so gaining some general familiarity can help you get your bearings."
   ]
  },
  {
   "cell_type": "code",
   "execution_count": 150,
   "metadata": {},
   "outputs": [],
   "source": [
    "# Load in the general demographics data.\n",
    "azdias = pd.read_csv('Udacity_AZDIAS_Subset.csv', sep=';')\n",
    "\n",
    "# Load in the feature summary file.\n",
    "feat_info = pd.read_csv('AZDIAS_Feature_Summary.csv', sep=';')"
   ]
  },
  {
   "cell_type": "code",
   "execution_count": 151,
   "metadata": {},
   "outputs": [
    {
     "name": "stdout",
     "output_type": "stream",
     "text": [
      "   AGER_TYP  ALTERSKATEGORIE_GROB  ANREDE_KZ  CJT_GESAMTTYP  \\\n",
      "0        -1                     2          1            2.0   \n",
      "1        -1                     1          2            5.0   \n",
      "2        -1                     3          2            3.0   \n",
      "\n",
      "   FINANZ_MINIMALIST  FINANZ_SPARER  FINANZ_VORSORGER  FINANZ_ANLEGER  \\\n",
      "0                  3              4                 3               5   \n",
      "1                  1              5                 2               5   \n",
      "2                  1              4                 1               2   \n",
      "\n",
      "   FINANZ_UNAUFFAELLIGER  FINANZ_HAUSBAUER  FINANZTYP  GEBURTSJAHR  \\\n",
      "0                      5                 3          4            0   \n",
      "1                      4                 5          1         1996   \n",
      "2                      3                 5          1         1979   \n",
      "\n",
      "   GFK_URLAUBERTYP  GREEN_AVANTGARDE  HEALTH_TYP  LP_LEBENSPHASE_FEIN  \\\n",
      "0             10.0                 0          -1                 15.0   \n",
      "1             10.0                 0           3                 21.0   \n",
      "2             10.0                 1           3                  3.0   \n",
      "\n",
      "   LP_LEBENSPHASE_GROB  LP_FAMILIE_FEIN  LP_FAMILIE_GROB  LP_STATUS_FEIN  \\\n",
      "0                  4.0              2.0              2.0             1.0   \n",
      "1                  6.0              5.0              3.0             2.0   \n",
      "2                  1.0              1.0              1.0             3.0   \n",
      "\n",
      "   LP_STATUS_GROB  NATIONALITAET_KZ  PRAEGENDE_JUGENDJAHRE  RETOURTYP_BK_S  \\\n",
      "0             1.0                 0                      0             5.0   \n",
      "1             1.0                 1                     14             1.0   \n",
      "2             2.0                 1                     15             3.0   \n",
      "\n",
      "   SEMIO_SOZ  SEMIO_FAM  SEMIO_REL  SEMIO_MAT  SEMIO_VERT  SEMIO_LUST  \\\n",
      "0          2          6          7          5           1           5   \n",
      "1          5          4          4          3           1           2   \n",
      "2          4          1          3          3           4           4   \n",
      "\n",
      "   SEMIO_ERL  SEMIO_KULT  SEMIO_RAT  SEMIO_KRIT  SEMIO_DOM  SEMIO_KAEM  \\\n",
      "0          3           3          4           7          6           6   \n",
      "1          2           3          6           4          7           4   \n",
      "2          6           3          4           7          7           7   \n",
      "\n",
      "   SEMIO_PFLICHT  SEMIO_TRADV  SHOPPER_TYP  SOHO_KZ  TITEL_KZ  VERS_TYP  \\\n",
      "0              5            3           -1      NaN       NaN        -1   \n",
      "1              7            6            3      1.0       0.0         2   \n",
      "2              3            3            2      0.0       0.0         1   \n",
      "\n",
      "   ZABEOTYP  ALTER_HH  ANZ_PERSONEN  ANZ_TITEL  HH_EINKOMMEN_SCORE  \\\n",
      "0         3       NaN           NaN        NaN                 2.0   \n",
      "1         5       0.0           2.0        0.0                 6.0   \n",
      "2         5      17.0           1.0        0.0                 4.0   \n",
      "\n",
      "   KK_KUNDENTYP  W_KEIT_KIND_HH  WOHNDAUER_2008  ANZ_HAUSHALTE_AKTIV  \\\n",
      "0           NaN             NaN             NaN                  NaN   \n",
      "1           NaN             3.0             9.0                 11.0   \n",
      "2           NaN             3.0             9.0                 10.0   \n",
      "\n",
      "   ANZ_HH_TITEL  GEBAEUDETYP  KONSUMNAEHE  MIN_GEBAEUDEJAHR OST_WEST_KZ  \\\n",
      "0           NaN          NaN          NaN               NaN         NaN   \n",
      "1           0.0          8.0          1.0            1992.0           W   \n",
      "2           0.0          1.0          5.0            1992.0           W   \n",
      "\n",
      "   WOHNLAGE CAMEO_DEUG_2015 CAMEO_DEU_2015 CAMEO_INTL_2015  KBA05_ANTG1  \\\n",
      "0       NaN             NaN            NaN             NaN          NaN   \n",
      "1       4.0               8             8A              51          0.0   \n",
      "2       2.0               4             4C              24          1.0   \n",
      "\n",
      "   KBA05_ANTG2  KBA05_ANTG3  KBA05_ANTG4  KBA05_BAUMAX  KBA05_GBZ  BALLRAUM  \\\n",
      "0          NaN          NaN          NaN           NaN        NaN       NaN   \n",
      "1          0.0          0.0          2.0           5.0        1.0       6.0   \n",
      "2          3.0          1.0          0.0           0.0        3.0       2.0   \n",
      "\n",
      "   EWDICHTE  INNENSTADT  GEBAEUDETYP_RASTER  KKK  MOBI_REGIO  \\\n",
      "0       NaN         NaN                 NaN  NaN         NaN   \n",
      "1       3.0         8.0                 3.0  2.0         1.0   \n",
      "2       4.0         4.0                 4.0  2.0         3.0   \n",
      "\n",
      "   ONLINE_AFFINITAET  REGIOTYP  KBA13_ANZAHL_PKW  PLZ8_ANTG1  PLZ8_ANTG2  \\\n",
      "0                1.0       NaN               NaN         NaN         NaN   \n",
      "1                3.0       3.0             963.0         2.0         3.0   \n",
      "2                2.0       2.0             712.0         3.0         3.0   \n",
      "\n",
      "   PLZ8_ANTG3  PLZ8_ANTG4  PLZ8_BAUMAX  PLZ8_HHZ  PLZ8_GBZ  ARBEIT  \\\n",
      "0         NaN         NaN          NaN       NaN       NaN     NaN   \n",
      "1         2.0         1.0          1.0       5.0       4.0     3.0   \n",
      "2         1.0         0.0          1.0       4.0       4.0     3.0   \n",
      "\n",
      "   ORTSGR_KLS9  RELAT_AB  \n",
      "0          NaN       NaN  \n",
      "1          5.0       4.0  \n",
      "2          5.0       2.0  \n",
      "\n",
      "            AGER_TYP  ALTERSKATEGORIE_GROB      ANREDE_KZ  CJT_GESAMTTYP  \\\n",
      "count  891221.000000         891221.000000  891221.000000  886367.000000   \n",
      "mean       -0.358435              2.777398       1.522098       3.632838   \n",
      "std         1.198724              1.068775       0.499512       1.595021   \n",
      "min        -1.000000              1.000000       1.000000       1.000000   \n",
      "25%        -1.000000              2.000000       1.000000       2.000000   \n",
      "50%        -1.000000              3.000000       2.000000       4.000000   \n",
      "75%        -1.000000              4.000000       2.000000       5.000000   \n",
      "max         3.000000              9.000000       2.000000       6.000000   \n",
      "\n",
      "       FINANZ_MINIMALIST  FINANZ_SPARER  FINANZ_VORSORGER  FINANZ_ANLEGER  \\\n",
      "count      891221.000000  891221.000000     891221.000000   891221.000000   \n",
      "mean            3.074528       2.821039          3.401106        3.033328   \n",
      "std             1.321055       1.464749          1.322134        1.529603   \n",
      "min             1.000000       1.000000          1.000000        1.000000   \n",
      "25%             2.000000       1.000000          3.000000        2.000000   \n",
      "50%             3.000000       3.000000          3.000000        3.000000   \n",
      "75%             4.000000       4.000000          5.000000        5.000000   \n",
      "max             5.000000       5.000000          5.000000        5.000000   \n",
      "\n",
      "       FINANZ_UNAUFFAELLIGER  FINANZ_HAUSBAUER      FINANZTYP    GEBURTSJAHR  \\\n",
      "count          891221.000000     891221.000000  891221.000000  891221.000000   \n",
      "mean                2.874167          3.075121       3.790586    1101.178533   \n",
      "std                 1.486731          1.353248       1.987876     976.583551   \n",
      "min                 1.000000          1.000000       1.000000       0.000000   \n",
      "25%                 2.000000          2.000000       2.000000       0.000000   \n",
      "50%                 3.000000          3.000000       4.000000    1943.000000   \n",
      "75%                 4.000000          4.000000       6.000000    1970.000000   \n",
      "max                 5.000000          5.000000       6.000000    2017.000000   \n",
      "\n",
      "       GFK_URLAUBERTYP  GREEN_AVANTGARDE     HEALTH_TYP  LP_LEBENSPHASE_FEIN  \\\n",
      "count    886367.000000     891221.000000  891221.000000        886367.000000   \n",
      "mean          7.350304          0.196612       1.792102            14.622637   \n",
      "std           3.525723          0.397437       1.269062            12.616883   \n",
      "min           1.000000          0.000000      -1.000000             0.000000   \n",
      "25%           5.000000          0.000000       1.000000             4.000000   \n",
      "50%           8.000000          0.000000       2.000000            11.000000   \n",
      "75%          10.000000          0.000000       3.000000            27.000000   \n",
      "max          12.000000          1.000000       3.000000            40.000000   \n",
      "\n",
      "       LP_LEBENSPHASE_GROB  LP_FAMILIE_FEIN  LP_FAMILIE_GROB  LP_STATUS_FEIN  \\\n",
      "count        886367.000000    886367.000000    886367.000000   886367.000000   \n",
      "mean              4.453621         3.599574         2.185966        4.791151   \n",
      "std               3.855639         3.926486         1.756537        3.425305   \n",
      "min               0.000000         0.000000         0.000000        1.000000   \n",
      "25%               1.000000         1.000000         1.000000        2.000000   \n",
      "50%               3.000000         1.000000         1.000000        4.000000   \n",
      "75%               8.000000         8.000000         4.000000        9.000000   \n",
      "max              12.000000        11.000000         5.000000       10.000000   \n",
      "\n",
      "       LP_STATUS_GROB  NATIONALITAET_KZ  PRAEGENDE_JUGENDJAHRE  \\\n",
      "count   886367.000000     891221.000000          891221.000000   \n",
      "mean         2.432575          1.026827               8.154346   \n",
      "std          1.474315          0.586634               4.844532   \n",
      "min          1.000000          0.000000               0.000000   \n",
      "25%          1.000000          1.000000               5.000000   \n",
      "50%          2.000000          1.000000               8.000000   \n",
      "75%          4.000000          1.000000              14.000000   \n",
      "max          5.000000          3.000000              15.000000   \n",
      "\n",
      "       RETOURTYP_BK_S      SEMIO_SOZ      SEMIO_FAM      SEMIO_REL  \\\n",
      "count   886367.000000  891221.000000  891221.000000  891221.000000   \n",
      "mean         3.419630       3.945860       4.272729       4.240609   \n",
      "std          1.417741       1.946564       1.915885       2.007373   \n",
      "min          1.000000       1.000000       1.000000       1.000000   \n",
      "25%          2.000000       2.000000       3.000000       3.000000   \n",
      "50%          3.000000       4.000000       4.000000       4.000000   \n",
      "75%          5.000000       6.000000       6.000000       6.000000   \n",
      "max          5.000000       7.000000       7.000000       7.000000   \n",
      "\n",
      "           SEMIO_MAT     SEMIO_VERT     SEMIO_LUST      SEMIO_ERL  \\\n",
      "count  891221.000000  891221.000000  891221.000000  891221.000000   \n",
      "mean        4.001597       4.023709       4.359086       4.481405   \n",
      "std         1.857540       2.077746       2.022829       1.807552   \n",
      "min         1.000000       1.000000       1.000000       1.000000   \n",
      "25%         2.000000       2.000000       2.000000       3.000000   \n",
      "50%         4.000000       4.000000       5.000000       4.000000   \n",
      "75%         5.000000       6.000000       6.000000       6.000000   \n",
      "max         7.000000       7.000000       7.000000       7.000000   \n",
      "\n",
      "          SEMIO_KULT      SEMIO_RAT     SEMIO_KRIT      SEMIO_DOM  \\\n",
      "count  891221.000000  891221.000000  891221.000000  891221.000000   \n",
      "mean        4.025014       3.910139       4.763223       4.667550   \n",
      "std         1.903816       1.580306       1.830789       1.795712   \n",
      "min         1.000000       1.000000       1.000000       1.000000   \n",
      "25%         3.000000       3.000000       3.000000       3.000000   \n",
      "50%         4.000000       4.000000       5.000000       5.000000   \n",
      "75%         5.000000       5.000000       6.000000       6.000000   \n",
      "max         7.000000       7.000000       7.000000       7.000000   \n",
      "\n",
      "          SEMIO_KAEM  SEMIO_PFLICHT    SEMIO_TRADV    SHOPPER_TYP  \\\n",
      "count  891221.000000  891221.000000  891221.000000  891221.000000   \n",
      "mean        4.445007       4.256076       3.661784       1.266967   \n",
      "std         1.852412       1.770137       1.707637       1.287435   \n",
      "min         1.000000       1.000000       1.000000      -1.000000   \n",
      "25%         3.000000       3.000000       2.000000       0.000000   \n",
      "50%         5.000000       4.000000       3.000000       1.000000   \n",
      "75%         6.000000       6.000000       5.000000       2.000000   \n",
      "max         7.000000       7.000000       7.000000       3.000000   \n",
      "\n",
      "             SOHO_KZ       TITEL_KZ       VERS_TYP       ZABEOTYP  \\\n",
      "count  817722.000000  817722.000000  891221.000000  891221.000000   \n",
      "mean        0.008423       0.003483       1.197852       3.362438   \n",
      "std         0.091392       0.084957       0.952532       1.352704   \n",
      "min         0.000000       0.000000      -1.000000       1.000000   \n",
      "25%         0.000000       0.000000       1.000000       3.000000   \n",
      "50%         0.000000       0.000000       1.000000       3.000000   \n",
      "75%         0.000000       0.000000       2.000000       4.000000   \n",
      "max         1.000000       5.000000       2.000000       6.000000   \n",
      "\n",
      "            ALTER_HH   ANZ_PERSONEN      ANZ_TITEL  HH_EINKOMMEN_SCORE  \\\n",
      "count  817722.000000  817722.000000  817722.000000       872873.000000   \n",
      "mean       10.864126       1.727637       0.004162            4.207243   \n",
      "std         7.639683       1.155849       0.068855            1.624057   \n",
      "min         0.000000       0.000000       0.000000            1.000000   \n",
      "25%         0.000000       1.000000       0.000000            3.000000   \n",
      "50%        13.000000       1.000000       0.000000            5.000000   \n",
      "75%        17.000000       2.000000       0.000000            6.000000   \n",
      "max        21.000000      45.000000       6.000000            6.000000   \n",
      "\n",
      "        KK_KUNDENTYP  W_KEIT_KIND_HH  WOHNDAUER_2008  ANZ_HAUSHALTE_AKTIV  \\\n",
      "count  306609.000000   783619.000000   817722.000000        798073.000000   \n",
      "mean        3.410640        3.933406        7.908791             8.287263   \n",
      "std         1.628844        1.964701        1.923137            15.628087   \n",
      "min         1.000000        0.000000        1.000000             0.000000   \n",
      "25%         2.000000        2.000000        8.000000             1.000000   \n",
      "50%         3.000000        4.000000        9.000000             4.000000   \n",
      "75%         5.000000        6.000000        9.000000             9.000000   \n",
      "max         6.000000        6.000000        9.000000           595.000000   \n",
      "\n",
      "        ANZ_HH_TITEL    GEBAEUDETYP    KONSUMNAEHE  MIN_GEBAEUDEJAHR  \\\n",
      "count  794213.000000  798073.000000  817252.000000     798073.000000   \n",
      "mean        0.040647       2.798641       3.018452       1993.277011   \n",
      "std         0.324028       2.656713       1.550312          3.332739   \n",
      "min         0.000000       1.000000       1.000000       1985.000000   \n",
      "25%         0.000000       1.000000       2.000000       1992.000000   \n",
      "50%         0.000000       1.000000       3.000000       1992.000000   \n",
      "75%         0.000000       3.000000       4.000000       1993.000000   \n",
      "max        23.000000       8.000000       7.000000       2016.000000   \n",
      "\n",
      "            WOHNLAGE    KBA05_ANTG1    KBA05_ANTG2    KBA05_ANTG3  \\\n",
      "count  798073.000000  757897.000000  757897.000000  757897.000000   \n",
      "mean        4.052836       1.494277       1.265584       0.624525   \n",
      "std         1.949539       1.403961       1.245178       1.013443   \n",
      "min         0.000000       0.000000       0.000000       0.000000   \n",
      "25%         3.000000       0.000000       0.000000       0.000000   \n",
      "50%         3.000000       1.000000       1.000000       0.000000   \n",
      "75%         5.000000       3.000000       2.000000       1.000000   \n",
      "max         8.000000       4.000000       4.000000       3.000000   \n",
      "\n",
      "         KBA05_ANTG4   KBA05_BAUMAX      KBA05_GBZ       BALLRAUM  \\\n",
      "count  757897.000000  757897.000000  757897.000000  797481.000000   \n",
      "mean        0.305927       1.389552       3.158580       4.153043   \n",
      "std         0.638725       1.779483       1.329537       2.183710   \n",
      "min         0.000000       0.000000       1.000000       1.000000   \n",
      "25%         0.000000       0.000000       2.000000       2.000000   \n",
      "50%         0.000000       1.000000       3.000000       5.000000   \n",
      "75%         0.000000       3.000000       4.000000       6.000000   \n",
      "max         2.000000       5.000000       5.000000       7.000000   \n",
      "\n",
      "            EWDICHTE     INNENSTADT  GEBAEUDETYP_RASTER            KKK  \\\n",
      "count  797481.000000  797481.000000       798066.000000  770025.000000   \n",
      "mean        3.939172       4.549491            3.738306       2.592991   \n",
      "std         1.718996       2.028919            0.923193       1.119052   \n",
      "min         1.000000       1.000000            1.000000       0.000000   \n",
      "25%         2.000000       3.000000            3.000000       2.000000   \n",
      "50%         4.000000       5.000000            4.000000       3.000000   \n",
      "75%         6.000000       6.000000            4.000000       3.000000   \n",
      "max         6.000000       8.000000            5.000000       4.000000   \n",
      "\n",
      "          MOBI_REGIO  ONLINE_AFFINITAET       REGIOTYP  KBA13_ANZAHL_PKW  \\\n",
      "count  757897.000000      886367.000000  770025.000000     785421.000000   \n",
      "mean        2.963540           2.698691       4.257967        619.701439   \n",
      "std         1.428882           1.521524       2.030385        340.034318   \n",
      "min         1.000000           0.000000       0.000000          0.000000   \n",
      "25%         2.000000           1.000000       3.000000        384.000000   \n",
      "50%         3.000000           3.000000       5.000000        549.000000   \n",
      "75%         4.000000           4.000000       6.000000        778.000000   \n",
      "max         6.000000           5.000000       7.000000       2300.000000   \n",
      "\n",
      "          PLZ8_ANTG1     PLZ8_ANTG2     PLZ8_ANTG3     PLZ8_ANTG4  \\\n",
      "count  774706.000000  774706.000000  774706.000000  774706.000000   \n",
      "mean        2.253330       2.801858       1.595426       0.699166   \n",
      "std         0.972008       0.920309       0.986736       0.727137   \n",
      "min         0.000000       0.000000       0.000000       0.000000   \n",
      "25%         1.000000       2.000000       1.000000       0.000000   \n",
      "50%         2.000000       3.000000       2.000000       1.000000   \n",
      "75%         3.000000       3.000000       2.000000       1.000000   \n",
      "max         4.000000       4.000000       3.000000       2.000000   \n",
      "\n",
      "         PLZ8_BAUMAX       PLZ8_HHZ       PLZ8_GBZ         ARBEIT  \\\n",
      "count  774706.000000  774706.000000  774706.000000  794005.000000   \n",
      "mean        1.943913       3.612821       3.381087       3.167854   \n",
      "std         1.459654       0.973967       1.111598       1.002376   \n",
      "min         1.000000       1.000000       1.000000       1.000000   \n",
      "25%         1.000000       3.000000       3.000000       3.000000   \n",
      "50%         1.000000       4.000000       3.000000       3.000000   \n",
      "75%         3.000000       4.000000       4.000000       4.000000   \n",
      "max         5.000000       5.000000       5.000000       9.000000   \n",
      "\n",
      "         ORTSGR_KLS9      RELAT_AB  \n",
      "count  794005.000000  794005.00000  \n",
      "mean        5.293002       3.07222  \n",
      "std         2.303739       1.36298  \n",
      "min         0.000000       1.00000  \n",
      "25%         4.000000       2.00000  \n",
      "50%         5.000000       3.00000  \n",
      "75%         7.000000       4.00000  \n",
      "max         9.000000       9.00000  \n",
      "\n",
      "<class 'pandas.core.frame.DataFrame'>\n",
      "RangeIndex: 891221 entries, 0 to 891220\n",
      "Data columns (total 85 columns):\n",
      "AGER_TYP                 891221 non-null int64\n",
      "ALTERSKATEGORIE_GROB     891221 non-null int64\n",
      "ANREDE_KZ                891221 non-null int64\n",
      "CJT_GESAMTTYP            886367 non-null float64\n",
      "FINANZ_MINIMALIST        891221 non-null int64\n",
      "FINANZ_SPARER            891221 non-null int64\n",
      "FINANZ_VORSORGER         891221 non-null int64\n",
      "FINANZ_ANLEGER           891221 non-null int64\n",
      "FINANZ_UNAUFFAELLIGER    891221 non-null int64\n",
      "FINANZ_HAUSBAUER         891221 non-null int64\n",
      "FINANZTYP                891221 non-null int64\n",
      "GEBURTSJAHR              891221 non-null int64\n",
      "GFK_URLAUBERTYP          886367 non-null float64\n",
      "GREEN_AVANTGARDE         891221 non-null int64\n",
      "HEALTH_TYP               891221 non-null int64\n",
      "LP_LEBENSPHASE_FEIN      886367 non-null float64\n",
      "LP_LEBENSPHASE_GROB      886367 non-null float64\n",
      "LP_FAMILIE_FEIN          886367 non-null float64\n",
      "LP_FAMILIE_GROB          886367 non-null float64\n",
      "LP_STATUS_FEIN           886367 non-null float64\n",
      "LP_STATUS_GROB           886367 non-null float64\n",
      "NATIONALITAET_KZ         891221 non-null int64\n",
      "PRAEGENDE_JUGENDJAHRE    891221 non-null int64\n",
      "RETOURTYP_BK_S           886367 non-null float64\n",
      "SEMIO_SOZ                891221 non-null int64\n",
      "SEMIO_FAM                891221 non-null int64\n",
      "SEMIO_REL                891221 non-null int64\n",
      "SEMIO_MAT                891221 non-null int64\n",
      "SEMIO_VERT               891221 non-null int64\n",
      "SEMIO_LUST               891221 non-null int64\n",
      "SEMIO_ERL                891221 non-null int64\n",
      "SEMIO_KULT               891221 non-null int64\n",
      "SEMIO_RAT                891221 non-null int64\n",
      "SEMIO_KRIT               891221 non-null int64\n",
      "SEMIO_DOM                891221 non-null int64\n",
      "SEMIO_KAEM               891221 non-null int64\n",
      "SEMIO_PFLICHT            891221 non-null int64\n",
      "SEMIO_TRADV              891221 non-null int64\n",
      "SHOPPER_TYP              891221 non-null int64\n",
      "SOHO_KZ                  817722 non-null float64\n",
      "TITEL_KZ                 817722 non-null float64\n",
      "VERS_TYP                 891221 non-null int64\n",
      "ZABEOTYP                 891221 non-null int64\n",
      "ALTER_HH                 817722 non-null float64\n",
      "ANZ_PERSONEN             817722 non-null float64\n",
      "ANZ_TITEL                817722 non-null float64\n",
      "HH_EINKOMMEN_SCORE       872873 non-null float64\n",
      "KK_KUNDENTYP             306609 non-null float64\n",
      "W_KEIT_KIND_HH           783619 non-null float64\n",
      "WOHNDAUER_2008           817722 non-null float64\n",
      "ANZ_HAUSHALTE_AKTIV      798073 non-null float64\n",
      "ANZ_HH_TITEL             794213 non-null float64\n",
      "GEBAEUDETYP              798073 non-null float64\n",
      "KONSUMNAEHE              817252 non-null float64\n",
      "MIN_GEBAEUDEJAHR         798073 non-null float64\n",
      "OST_WEST_KZ              798073 non-null object\n",
      "WOHNLAGE                 798073 non-null float64\n",
      "CAMEO_DEUG_2015          792242 non-null object\n",
      "CAMEO_DEU_2015           792242 non-null object\n",
      "CAMEO_INTL_2015          792242 non-null object\n",
      "KBA05_ANTG1              757897 non-null float64\n",
      "KBA05_ANTG2              757897 non-null float64\n",
      "KBA05_ANTG3              757897 non-null float64\n",
      "KBA05_ANTG4              757897 non-null float64\n",
      "KBA05_BAUMAX             757897 non-null float64\n",
      "KBA05_GBZ                757897 non-null float64\n",
      "BALLRAUM                 797481 non-null float64\n",
      "EWDICHTE                 797481 non-null float64\n",
      "INNENSTADT               797481 non-null float64\n",
      "GEBAEUDETYP_RASTER       798066 non-null float64\n",
      "KKK                      770025 non-null float64\n",
      "MOBI_REGIO               757897 non-null float64\n",
      "ONLINE_AFFINITAET        886367 non-null float64\n",
      "REGIOTYP                 770025 non-null float64\n",
      "KBA13_ANZAHL_PKW         785421 non-null float64\n",
      "PLZ8_ANTG1               774706 non-null float64\n",
      "PLZ8_ANTG2               774706 non-null float64\n",
      "PLZ8_ANTG3               774706 non-null float64\n",
      "PLZ8_ANTG4               774706 non-null float64\n",
      "PLZ8_BAUMAX              774706 non-null float64\n",
      "PLZ8_HHZ                 774706 non-null float64\n",
      "PLZ8_GBZ                 774706 non-null float64\n",
      "ARBEIT                   794005 non-null float64\n",
      "ORTSGR_KLS9              794005 non-null float64\n",
      "RELAT_AB                 794005 non-null float64\n",
      "dtypes: float64(49), int64(32), object(4)\n",
      "memory usage: 578.0+ MB\n",
      "None\n",
      "\n"
     ]
    }
   ],
   "source": [
    "# Check the structure of the data after it's loaded (e.g. print the number of\n",
    "# rows and columns, print the first few rows).\n",
    "# pd.set_option('display.max_columns', 100) # to allow me to look at all columns\n",
    "# pd.set_option('display.max_rows', 100) # to allow me to look at all columns\n",
    "\n",
    "# print(len(azdias)) # number of rows 891221\n",
    "# print(len(azdias.columns)) # number of columns 85\n",
    "print(azdias.head(3))\n",
    "print()\n",
    "print(azdias.describe())\n",
    "print()\n",
    "print(azdias.info())\n",
    "print()"
   ]
  },
  {
   "cell_type": "code",
   "execution_count": 152,
   "metadata": {},
   "outputs": [
    {
     "name": "stdout",
     "output_type": "stream",
     "text": [
      "              attribute information_level         type missing_or_unknown\n",
      "0              AGER_TYP            person  categorical             [-1,0]\n",
      "1  ALTERSKATEGORIE_GROB            person      ordinal           [-1,0,9]\n",
      "2             ANREDE_KZ            person  categorical             [-1,0]\n",
      "3         CJT_GESAMTTYP            person  categorical                [0]\n",
      "4     FINANZ_MINIMALIST            person      ordinal               [-1]\n",
      "\n",
      "       attribute information_level     type missing_or_unknown\n",
      "count         85                85       85                 85\n",
      "unique        85                 9        5                  9\n",
      "top     TITEL_KZ            person  ordinal               [-1]\n",
      "freq           1                43       49                 26\n",
      "\n",
      "<class 'pandas.core.frame.DataFrame'>\n",
      "RangeIndex: 85 entries, 0 to 84\n",
      "Data columns (total 4 columns):\n",
      "attribute             85 non-null object\n",
      "information_level     85 non-null object\n",
      "type                  85 non-null object\n",
      "missing_or_unknown    85 non-null object\n",
      "dtypes: object(4)\n",
      "memory usage: 2.7+ KB\n",
      "None\n"
     ]
    }
   ],
   "source": [
    "# print(len(feat_info)) # number of rows 85\n",
    "# print(len(feat_info.columns)) # number of columns 4\n",
    "print(feat_info.head())\n",
    "print()\n",
    "print(feat_info.describe())\n",
    "print()\n",
    "print(feat_info.info())"
   ]
  },
  {
   "cell_type": "markdown",
   "metadata": {},
   "source": [
    "> **Tip**: Add additional cells to keep everything in reasonably-sized chunks! Keyboard shortcut `esc --> a` (press escape to enter command mode, then press the 'A' key) adds a new cell before the active cell, and `esc --> b` adds a new cell after the active cell. If you need to convert an active cell to a markdown cell, use `esc --> m` and to convert to a code cell, use `esc --> y`. \n",
    "\n",
    "## Step 1: Preprocessing\n",
    "\n",
    "### Step 1.1: Assess Missing Data\n",
    "\n",
    "The feature summary file contains a summary of properties for each demographics data column. You will use this file to help you make cleaning decisions during this stage of the project. First of all, you should assess the demographics data in terms of missing data. Pay attention to the following points as you perform your analysis, and take notes on what you observe. Make sure that you fill in the **Discussion** cell with your findings and decisions at the end of each step that has one!\n",
    "\n",
    "#### Step 1.1.1: Convert Missing Value Codes to NaNs\n",
    "The fourth column of the feature attributes summary (loaded in above as `feat_info`) documents the codes from the data dictionary that indicate missing or unknown data. While the file encodes this as a list (e.g. `[-1,0]`), this will get read in as a string object. You'll need to do a little bit of parsing to make use of it to identify and clean the data. Convert data that matches a 'missing' or 'unknown' value code into a numpy NaN value. You might want to see how much data takes on a 'missing' or 'unknown' code, and how much data is naturally missing, as a point of interest.\n",
    "\n",
    "**As one more reminder, you are encouraged to add additional cells to break up your analysis into manageable chunks.**"
   ]
  },
  {
   "cell_type": "code",
   "execution_count": 153,
   "metadata": {},
   "outputs": [],
   "source": [
    "# the missing values column in feat_info is a string, the below converts it to a usable format\n",
    "# special consideration had to be given to columns 57 and 59 due to the format of their missing values with X and XX\n",
    "split_missing = []\n",
    "for i in range(0, 85):\n",
    "    val_list = [val for val in feat_info[\"missing_or_unknown\"][i].replace(\"[\",\"\").replace(\"]\",\"\").split(\",\")]\n",
    "    \n",
    "    # bring in values and convert to numeric values (where applicable)\n",
    "    if 'XX' in val_list:\n",
    "        split_missing.append(val_list)\n",
    "    elif 'X' in val_list:\n",
    "        split_missing.append(val_list)\n",
    "    elif val_list == '':\n",
    "        split_missing.append(np.nan)\n",
    "    else:\n",
    "        split_missing.append(pd.to_numeric(val_list))\n",
    "\n",
    "# adding it to end of feat_info\n",
    "feat_info[\"split_missing\"] = split_missing\n",
    "\n",
    "# print(feat_info[\"split_missing\"])\n",
    "\n",
    "# manually formatting columns 57 and 59\n",
    "feat_info[\"split_missing\"][57] = [-1, 'X']\n",
    "feat_info[\"split_missing\"][59] = [-1, 'XX']\n",
    "\n",
    "# print(feat_info[\"split_missing\"][57])\n",
    "# print(feat_info[\"split_missing\"][59])"
   ]
  },
  {
   "cell_type": "code",
   "execution_count": 154,
   "metadata": {},
   "outputs": [
    {
     "name": "stdout",
     "output_type": "stream",
     "text": [
      "4896838\n",
      "\n",
      "AGER_TYP                      0\n",
      "ALTERSKATEGORIE_GROB          0\n",
      "ANREDE_KZ                     0\n",
      "CJT_GESAMTTYP              4854\n",
      "FINANZ_MINIMALIST             0\n",
      "FINANZ_SPARER                 0\n",
      "FINANZ_VORSORGER              0\n",
      "FINANZ_ANLEGER                0\n",
      "FINANZ_UNAUFFAELLIGER         0\n",
      "FINANZ_HAUSBAUER              0\n",
      "FINANZTYP                     0\n",
      "GEBURTSJAHR                   0\n",
      "GFK_URLAUBERTYP            4854\n",
      "GREEN_AVANTGARDE              0\n",
      "HEALTH_TYP                    0\n",
      "LP_LEBENSPHASE_FEIN        4854\n",
      "LP_LEBENSPHASE_GROB        4854\n",
      "LP_FAMILIE_FEIN            4854\n",
      "LP_FAMILIE_GROB            4854\n",
      "LP_STATUS_FEIN             4854\n",
      "LP_STATUS_GROB             4854\n",
      "NATIONALITAET_KZ              0\n",
      "PRAEGENDE_JUGENDJAHRE         0\n",
      "RETOURTYP_BK_S             4854\n",
      "SEMIO_SOZ                     0\n",
      "SEMIO_FAM                     0\n",
      "SEMIO_REL                     0\n",
      "SEMIO_MAT                     0\n",
      "SEMIO_VERT                    0\n",
      "SEMIO_LUST                    0\n",
      "SEMIO_ERL                     0\n",
      "SEMIO_KULT                    0\n",
      "SEMIO_RAT                     0\n",
      "SEMIO_KRIT                    0\n",
      "SEMIO_DOM                     0\n",
      "SEMIO_KAEM                    0\n",
      "SEMIO_PFLICHT                 0\n",
      "SEMIO_TRADV                   0\n",
      "SHOPPER_TYP                   0\n",
      "SOHO_KZ                   73499\n",
      "TITEL_KZ                  73499\n",
      "VERS_TYP                      0\n",
      "ZABEOTYP                      0\n",
      "ALTER_HH                  73499\n",
      "ANZ_PERSONEN              73499\n",
      "ANZ_TITEL                 73499\n",
      "HH_EINKOMMEN_SCORE        18348\n",
      "KK_KUNDENTYP             584612\n",
      "W_KEIT_KIND_HH           107602\n",
      "WOHNDAUER_2008            73499\n",
      "ANZ_HAUSHALTE_AKTIV       93148\n",
      "ANZ_HH_TITEL              97008\n",
      "GEBAEUDETYP               93148\n",
      "KONSUMNAEHE               73969\n",
      "MIN_GEBAEUDEJAHR          93148\n",
      "OST_WEST_KZ               93148\n",
      "WOHNLAGE                  93148\n",
      "CAMEO_DEUG_2015           98979\n",
      "CAMEO_DEU_2015            98979\n",
      "CAMEO_INTL_2015           98979\n",
      "KBA05_ANTG1              133324\n",
      "KBA05_ANTG2              133324\n",
      "KBA05_ANTG3              133324\n",
      "KBA05_ANTG4              133324\n",
      "KBA05_BAUMAX             133324\n",
      "KBA05_GBZ                133324\n",
      "BALLRAUM                  93740\n",
      "EWDICHTE                  93740\n",
      "INNENSTADT                93740\n",
      "GEBAEUDETYP_RASTER        93155\n",
      "KKK                      121196\n",
      "MOBI_REGIO               133324\n",
      "ONLINE_AFFINITAET          4854\n",
      "REGIOTYP                 121196\n",
      "KBA13_ANZAHL_PKW         105800\n",
      "PLZ8_ANTG1               116515\n",
      "PLZ8_ANTG2               116515\n",
      "PLZ8_ANTG3               116515\n",
      "PLZ8_ANTG4               116515\n",
      "PLZ8_BAUMAX              116515\n",
      "PLZ8_HHZ                 116515\n",
      "PLZ8_GBZ                 116515\n",
      "ARBEIT                    97216\n",
      "ORTSGR_KLS9               97216\n",
      "RELAT_AB                  97216\n",
      "dtype: int64\n"
     ]
    }
   ],
   "source": [
    "# checking the total number of missing values in the dataframe\n",
    "print(azdias.isnull().sum().sum())\n",
    "\n",
    "print()\n",
    "\n",
    "# checking the number of missing values by column\n",
    "print(azdias.isnull().sum())"
   ]
  },
  {
   "cell_type": "code",
   "execution_count": 155,
   "metadata": {},
   "outputs": [],
   "source": [
    "# replacing values from above list of missing or unknown values split list with np.nan\n",
    "for i in range(0, 85):\n",
    "    attribute = feat_info[\"attribute\"][i]\n",
    "    azdias[attribute] = azdias[attribute].replace(feat_info[\"split_missing\"][i], np.nan)\n"
   ]
  },
  {
   "cell_type": "markdown",
   "metadata": {},
   "source": [
    "#### Step 1.1.2: Assess Missing Data in Each Column\n",
    "\n",
    "How much missing data is present in each column? There are a few columns that are outliers in terms of the proportion of values that are missing. You will want to use matplotlib's [`hist()`](https://matplotlib.org/api/_as_gen/matplotlib.pyplot.hist.html) function to visualize the distribution of missing value counts to find these columns. Identify and document these columns. While some of these columns might have justifications for keeping or re-encoding the data, for this project you should just remove them from the dataframe. (Feel free to make remarks about these outlier columns in the discussion, however!)\n",
    "\n",
    "For the remaining features, are there any patterns in which columns have, or share, missing data?"
   ]
  },
  {
   "cell_type": "code",
   "execution_count": 156,
   "metadata": {},
   "outputs": [],
   "source": [
    "# Perform an assessment of how much missing data there is in each column of the\n",
    "# dataset.\n",
    "missing_per_column = azdias.isnull().sum()\n",
    "perc_missing_per_column = missing_per_column/len(azdias)\n",
    "#missing_per_column = pd.Series.to_frame(missing_per_column)"
   ]
  },
  {
   "cell_type": "code",
   "execution_count": 157,
   "metadata": {},
   "outputs": [
    {
     "data": {
      "image/png": "[encoded data removed]",
      "text/plain": [
       "<matplotlib.figure.Figure at 0x7f90cba7e550>"
      ]
     },
     "metadata": {
      "needs_background": "light"
     },
     "output_type": "display_data"
    }
   ],
   "source": [
    "# Investigate patterns in the amount of missing data in each column.\n",
    "fig = plt.figure(figsize=(20,20))\n",
    "ax = perc_missing_per_column.plot.bar()\n",
    "# plt.axhline(y=0.15)\n",
    "plt.axhline(y=0.20)\n",
    "plt.show()\n",
    "\n",
    "# seems that majority of columns are under 20% missing data"
   ]
  },
  {
   "cell_type": "code",
   "execution_count": 158,
   "metadata": {},
   "outputs": [
    {
     "name": "stdout",
     "output_type": "stream",
     "text": [
      "['AGER_TYP' 'GEBURTSJAHR' 'TITEL_KZ' 'ALTER_HH' 'KK_KUNDENTYP'\n",
      " 'KBA05_BAUMAX']\n"
     ]
    }
   ],
   "source": [
    "# Remove the outlier columns from the dataset. (You'll perform other data\n",
    "# engineering tasks such as re-encoding and imputation later.)\n",
    "# dropping all columns with > 20% missing data as per the above plot\n",
    "columns_to_drop = missing_per_column[perc_missing_per_column > .2]\n",
    "columns_to_drop = columns_to_drop.index.tolist()\n",
    "print(columns_to_drop)"
   ]
  },
  {
   "cell_type": "code",
   "execution_count": 159,
   "metadata": {},
   "outputs": [],
   "source": [
    "# dropping the column names specified above\n",
    "azdias.drop(columns_to_drop, axis=1, inplace=True)"
   ]
  },
  {
   "cell_type": "code",
   "execution_count": 160,
   "metadata": {},
   "outputs": [
    {
     "data": {
      "image/png": "[encoded data removed]",
      "text/plain": [
       "<matplotlib.figure.Figure at 0x7f90cb9968d0>"
      ]
     },
     "metadata": {
      "needs_background": "light"
     },
     "output_type": "display_data"
    }
   ],
   "source": [
    "# checking the dropped columns\n",
    "missing_check = azdias.isnull().sum()\n",
    "perc_missing_check = missing_check/len(azdias)\n",
    "fig = plt.figure(figsize=(20,20))\n",
    "ax = perc_missing_check.plot.bar()\n",
    "plt.axhline(y=0.20)\n",
    "plt.show()\n",
    "\n",
    "# this plot confirms the correct columns have been dropped"
   ]
  },
  {
   "cell_type": "markdown",
   "metadata": {},
   "source": [
    "#### Discussion 1.1.2: Assess Missing Data in Each Column\n",
    "\n",
    "'AGER_TYP','GEBURTSJAHR','TITEL_KZ','ALTER_HH','KK_KUNDENTYP' and 'KBA05_BAUMAX' were removed from the dataset\n",
    "\n",
    "# TODO (COMPLETE THE REST OF THIS)\n",
    "\n",
    "\n",
    "(Double click this cell and replace this text with your own text, reporting your observations regarding the amount of missing data in each column. Are there any patterns in missing values? Which columns were removed from the dataset?)"
   ]
  },
  {
   "cell_type": "markdown",
   "metadata": {},
   "source": [
    "#### Step 1.1.3: Assess Missing Data in Each Row\n",
    "\n",
    "Now, you'll perform a similar assessment for the rows of the dataset. How much data is missing in each row? As with the columns, you should see some groups of points that have a very different numbers of missing values. Divide the data into two subsets: one for data points that are above some threshold for missing values, and a second subset for points below that threshold.\n",
    "\n",
    "In order to know what to do with the outlier rows, we should see if the distribution of data values on columns that are not missing data (or are missing very little data) are similar or different between the two groups. Select at least five of these columns and compare the distribution of values.\n",
    "- You can use seaborn's [`countplot()`](https://seaborn.pydata.org/generated/seaborn.countplot.html) function to create a bar chart of code frequencies and matplotlib's [`subplot()`](https://matplotlib.org/api/_as_gen/matplotlib.pyplot.subplot.html) function to put bar charts for the two subplots side by side.\n",
    "- To reduce repeated code, you might want to write a function that can perform this comparison, taking as one of its arguments a column to be compared.\n",
    "\n",
    "Depending on what you observe in your comparison, this will have implications on how you approach your conclusions later in the analysis. If the distributions of non-missing features look similar between the data with many missing values and the data with few or no missing values, then we could argue that simply dropping those points from the analysis won't present a major issue. On the other hand, if the data with many missing values looks very different from the data with few or no missing values, then we should make a note on those data as special. We'll revisit these data later on. **Either way, you should continue your analysis for now using just the subset of the data with few or no missing values.**"
   ]
  },
  {
   "cell_type": "code",
   "execution_count": 166,
   "metadata": {},
   "outputs": [],
   "source": [
    "# How much data is missing in each row of the dataset?\n",
    "missing_per_row = azdias.isnull().sum(axis=1)\n",
    "perc_missing_per_row = missing_per_row/len(azdias.columns)"
   ]
  },
  {
   "cell_type": "code",
   "execution_count": 167,
   "metadata": {},
   "outputs": [
    {
     "data": {
      "image/png": "[encoded data removed]",
      "text/plain": [
       "<matplotlib.figure.Figure at 0x7f90cb89d278>"
      ]
     },
     "metadata": {
      "needs_background": "light"
     },
     "output_type": "display_data"
    }
   ],
   "source": [
    "fig = plt.figure(figsize=(20,10))\n",
    "ax = perc_missing_per_row.plot.hist()\n",
    "plt.axvline(x=0.25)\n",
    "plt.show()"
   ]
  },
  {
   "cell_type": "code",
   "execution_count": 182,
   "metadata": {},
   "outputs": [
    {
     "name": "stdout",
     "output_type": "stream",
     "text": [
      "623209\n",
      "\n",
      "268012\n"
     ]
    }
   ],
   "source": [
    "# investigating proporations from above plot\n",
    "# print(np.sum(missing_per_row>(len(azdias.columns)*0.25))) # 94144 rows (too few)\n",
    "# print()\n",
    "print(np.sum(missing_per_row==0)) # 623209 rows\n",
    "print()\n",
    "print(np.sum(missing_per_row!=0)) # 268012 rows"
   ]
  },
  {
   "cell_type": "code",
   "execution_count": 181,
   "metadata": {},
   "outputs": [
    {
     "name": "stdout",
     "output_type": "stream",
     "text": [
      "\n",
      "623209\n",
      "\n",
      "268012\n"
     ]
    }
   ],
   "source": [
    "# Write code to divide the data into two subsets based on the number of missing\n",
    "# values in each row.\n",
    "# best way of splitting from the above analysis is rows where no data is missing and where any data is missing\n",
    "rows_no_missing = list(np.where(missing_per_row==0)[0])\n",
    "rows_missing = list(np.where(missing_per_row!=0)[0])\n",
    "\n",
    "# print(len(rows_no_missing))\n",
    "# print(len(rows_missing))\n",
    "\n",
    "azdias_one = azdias.loc[rows_no_missing, :]\n",
    "azdias_two = azdias.loc[rows_missing, :]\n",
    "\n",
    "# print(len(azdias_one))\n",
    "# print(len(azdias_two))"
   ]
  },
  {
   "cell_type": "code",
   "execution_count": null,
   "metadata": {},
   "outputs": [],
   "source": [
    "# Compare the distribution of values for at least five columns where there are\n",
    "# no or few missing values, between the two subsets.\n",
    "\n"
   ]
  },
  {
   "cell_type": "markdown",
   "metadata": {},
   "source": [
    "#### Discussion 1.1.3: Assess Missing Data in Each Row\n",
    "\n",
    "(Double-click this cell and replace this text with your own text, reporting your observations regarding missing data in rows. Are the data with lots of missing values are qualitatively different from data with few or no missing values?)"
   ]
  },
  {
   "cell_type": "markdown",
   "metadata": {},
   "source": [
    "### Step 1.2: Select and Re-Encode Features\n",
    "\n",
    "Checking for missing data isn't the only way in which you can prepare a dataset for analysis. Since the unsupervised learning techniques to be used will only work on data that is encoded numerically, you need to make a few encoding changes or additional assumptions to be able to make progress. In addition, while almost all of the values in the dataset are encoded using numbers, not all of them represent numeric values. Check the third column of the feature summary (`feat_info`) for a summary of types of measurement.\n",
    "- For numeric and interval data, these features can be kept without changes.\n",
    "- Most of the variables in the dataset are ordinal in nature. While ordinal values may technically be non-linear in spacing, make the simplifying assumption that the ordinal variables can be treated as being interval in nature (that is, kept without any changes).\n",
    "- Special handling may be necessary for the remaining two variable types: categorical, and 'mixed'.\n",
    "\n",
    "In the first two parts of this sub-step, you will perform an investigation of the categorical and mixed-type features and make a decision on each of them, whether you will keep, drop, or re-encode each. Then, in the last part, you will create a new data frame with only the selected and engineered columns.\n",
    "\n",
    "Data wrangling is often the trickiest part of the data analysis process, and there's a lot of it to be done here. But stick with it: once you're done with this step, you'll be ready to get to the machine learning parts of the project!"
   ]
  },
  {
   "cell_type": "code",
   "execution_count": null,
   "metadata": {},
   "outputs": [],
   "source": [
    "# How many features are there of each data type?\n",
    "\n"
   ]
  },
  {
   "cell_type": "markdown",
   "metadata": {},
   "source": [
    "#### Step 1.2.1: Re-Encode Categorical Features\n",
    "\n",
    "For categorical data, you would ordinarily need to encode the levels as dummy variables. Depending on the number of categories, perform one of the following:\n",
    "- For binary (two-level) categoricals that take numeric values, you can keep them without needing to do anything.\n",
    "- There is one binary variable that takes on non-numeric values. For this one, you need to re-encode the values as numbers or create a dummy variable.\n",
    "- For multi-level categoricals (three or more values), you can choose to encode the values using multiple dummy variables (e.g. via [OneHotEncoder](http://scikit-learn.org/stable/modules/generated/sklearn.preprocessing.OneHotEncoder.html)), or (to keep things straightforward) just drop them from the analysis. As always, document your choices in the Discussion section."
   ]
  },
  {
   "cell_type": "code",
   "execution_count": null,
   "metadata": {},
   "outputs": [],
   "source": [
    "# Assess categorical variables: which are binary, which are multi-level, and\n",
    "# which one needs to be re-encoded?\n",
    "\n"
   ]
  },
  {
   "cell_type": "code",
   "execution_count": null,
   "metadata": {},
   "outputs": [],
   "source": [
    "# Re-encode categorical variable(s) to be kept in the analysis.\n",
    "\n"
   ]
  },
  {
   "cell_type": "markdown",
   "metadata": {},
   "source": [
    "#### Discussion 1.2.1: Re-Encode Categorical Features\n",
    "\n",
    "(Double-click this cell and replace this text with your own text, reporting your findings and decisions regarding categorical features. Which ones did you keep, which did you drop, and what engineering steps did you perform?)"
   ]
  },
  {
   "cell_type": "markdown",
   "metadata": {},
   "source": [
    "#### Step 1.2.2: Engineer Mixed-Type Features\n",
    "\n",
    "There are a handful of features that are marked as \"mixed\" in the feature summary that require special treatment in order to be included in the analysis. There are two in particular that deserve attention; the handling of the rest are up to your own choices:\n",
    "- \"PRAEGENDE_JUGENDJAHRE\" combines information on three dimensions: generation by decade, movement (mainstream vs. avantgarde), and nation (east vs. west). While there aren't enough levels to disentangle east from west, you should create two new variables to capture the other two dimensions: an interval-type variable for decade, and a binary variable for movement.\n",
    "- \"CAMEO_INTL_2015\" combines information on two axes: wealth and life stage. Break up the two-digit codes by their 'tens'-place and 'ones'-place digits into two new ordinal variables (which, for the purposes of this project, is equivalent to just treating them as their raw numeric values).\n",
    "- If you decide to keep or engineer new features around the other mixed-type features, make sure you note your steps in the Discussion section.\n",
    "\n",
    "Be sure to check `Data_Dictionary.md` for the details needed to finish these tasks."
   ]
  },
  {
   "cell_type": "code",
   "execution_count": null,
   "metadata": {},
   "outputs": [],
   "source": [
    "# Investigate \"PRAEGENDE_JUGENDJAHRE\" and engineer two new variables.\n",
    "\n"
   ]
  },
  {
   "cell_type": "code",
   "execution_count": null,
   "metadata": {},
   "outputs": [],
   "source": [
    "# Investigate \"CAMEO_INTL_2015\" and engineer two new variables.\n",
    "\n"
   ]
  },
  {
   "cell_type": "markdown",
   "metadata": {},
   "source": [
    "#### Discussion 1.2.2: Engineer Mixed-Type Features\n",
    "\n",
    "(Double-click this cell and replace this text with your own text, reporting your findings and decisions regarding mixed-value features. Which ones did you keep, which did you drop, and what engineering steps did you perform?)"
   ]
  },
  {
   "cell_type": "markdown",
   "metadata": {},
   "source": [
    "#### Step 1.2.3: Complete Feature Selection\n",
    "\n",
    "In order to finish this step up, you need to make sure that your data frame now only has the columns that you want to keep. To summarize, the dataframe should consist of the following:\n",
    "- All numeric, interval, and ordinal type columns from the original dataset.\n",
    "- Binary categorical features (all numerically-encoded).\n",
    "- Engineered features from other multi-level categorical features and mixed features.\n",
    "\n",
    "Make sure that for any new columns that you have engineered, that you've excluded the original columns from the final dataset. Otherwise, their values will interfere with the analysis later on the project. For example, you should not keep \"PRAEGENDE_JUGENDJAHRE\", since its values won't be useful for the algorithm: only the values derived from it in the engineered features you created should be retained. As a reminder, your data should only be from **the subset with few or no missing values**."
   ]
  },
  {
   "cell_type": "code",
   "execution_count": null,
   "metadata": {},
   "outputs": [],
   "source": [
    "# If there are other re-engineering tasks you need to perform, make sure you\n",
    "# take care of them here. (Dealing with missing data will come in step 2.1.)\n",
    "\n"
   ]
  },
  {
   "cell_type": "code",
   "execution_count": null,
   "metadata": {},
   "outputs": [],
   "source": [
    "# Do whatever you need to in order to ensure that the dataframe only contains\n",
    "# the columns that should be passed to the algorithm functions.\n",
    "\n"
   ]
  },
  {
   "cell_type": "markdown",
   "metadata": {},
   "source": [
    "### Step 1.3: Create a Cleaning Function\n",
    "\n",
    "Even though you've finished cleaning up the general population demographics data, it's important to look ahead to the future and realize that you'll need to perform the same cleaning steps on the customer demographics data. In this substep, complete the function below to execute the main feature selection, encoding, and re-engineering steps you performed above. Then, when it comes to looking at the customer data in Step 3, you can just run this function on that DataFrame to get the trimmed dataset in a single step."
   ]
  },
  {
   "cell_type": "code",
   "execution_count": 1,
   "metadata": {},
   "outputs": [],
   "source": [
    "def clean_data(df):\n",
    "    \"\"\"\n",
    "    Perform feature trimming, re-encoding, and engineering for demographics\n",
    "    data\n",
    "    \n",
    "    INPUT: Demographics DataFrame\n",
    "    OUTPUT: Trimmed and cleaned demographics DataFrame\n",
    "    \"\"\"\n",
    "    \n",
    "    # Put in code here to execute all main cleaning steps:\n",
    "    # convert missing value codes into NaNs, ...\n",
    "    \n",
    "    \n",
    "    # remove selected columns and rows, ...\n",
    "\n",
    "    \n",
    "    # select, re-encode, and engineer column values.\n",
    "\n",
    "    \n",
    "    # Return the cleaned dataframe.\n",
    "    \n",
    "    "
   ]
  },
  {
   "cell_type": "markdown",
   "metadata": {},
   "source": [
    "## Step 2: Feature Transformation\n",
    "\n",
    "### Step 2.1: Apply Feature Scaling\n",
    "\n",
    "Before we apply dimensionality reduction techniques to the data, we need to perform feature scaling so that the principal component vectors are not influenced by the natural differences in scale for features. Starting from this part of the project, you'll want to keep an eye on the [API reference page for sklearn](http://scikit-learn.org/stable/modules/classes.html) to help you navigate to all of the classes and functions that you'll need. In this substep, you'll need to check the following:\n",
    "\n",
    "- sklearn requires that data not have missing values in order for its estimators to work properly. So, before applying the scaler to your data, make sure that you've cleaned the DataFrame of the remaining missing values. This can be as simple as just removing all data points with missing data, or applying an [Imputer](http://scikit-learn.org/stable/modules/generated/sklearn.preprocessing.Imputer.html) to replace all missing values. You might also try a more complicated procedure where you temporarily remove missing values in order to compute the scaling parameters before re-introducing those missing values and applying imputation. Think about how much missing data you have and what possible effects each approach might have on your analysis, and justify your decision in the discussion section below.\n",
    "- For the actual scaling function, a [StandardScaler](http://scikit-learn.org/stable/modules/generated/sklearn.preprocessing.StandardScaler.html) instance is suggested, scaling each feature to mean 0 and standard deviation 1.\n",
    "- For these classes, you can make use of the `.fit_transform()` method to both fit a procedure to the data as well as apply the transformation to the data at the same time. Don't forget to keep the fit sklearn objects handy, since you'll be applying them to the customer demographics data towards the end of the project."
   ]
  },
  {
   "cell_type": "code",
   "execution_count": null,
   "metadata": {},
   "outputs": [],
   "source": [
    "# If you've not yet cleaned the dataset of all NaN values, then investigate and\n",
    "# do that now.\n",
    "\n"
   ]
  },
  {
   "cell_type": "code",
   "execution_count": null,
   "metadata": {},
   "outputs": [],
   "source": [
    "# Apply feature scaling to the general population demographics data.\n",
    "\n"
   ]
  },
  {
   "cell_type": "markdown",
   "metadata": {},
   "source": [
    "### Discussion 2.1: Apply Feature Scaling\n",
    "\n",
    "(Double-click this cell and replace this text with your own text, reporting your decisions regarding feature scaling.)"
   ]
  },
  {
   "cell_type": "markdown",
   "metadata": {},
   "source": [
    "### Step 2.2: Perform Dimensionality Reduction\n",
    "\n",
    "On your scaled data, you are now ready to apply dimensionality reduction techniques.\n",
    "\n",
    "- Use sklearn's [PCA](http://scikit-learn.org/stable/modules/generated/sklearn.decomposition.PCA.html) class to apply principal component analysis on the data, thus finding the vectors of maximal variance in the data. To start, you should not set any parameters (so all components are computed) or set a number of components that is at least half the number of features (so there's enough features to see the general trend in variability).\n",
    "- Check out the ratio of variance explained by each principal component as well as the cumulative variance explained. Try plotting the cumulative or sequential values using matplotlib's [`plot()`](https://matplotlib.org/api/_as_gen/matplotlib.pyplot.plot.html) function. Based on what you find, select a value for the number of transformed features you'll retain for the clustering part of the project.\n",
    "- Once you've made a choice for the number of components to keep, make sure you re-fit a PCA instance to perform the decided-on transformation."
   ]
  },
  {
   "cell_type": "code",
   "execution_count": null,
   "metadata": {},
   "outputs": [],
   "source": [
    "# Apply PCA to the data.\n",
    "\n"
   ]
  },
  {
   "cell_type": "code",
   "execution_count": null,
   "metadata": {},
   "outputs": [],
   "source": [
    "# Investigate the variance accounted for by each principal component.\n",
    "\n"
   ]
  },
  {
   "cell_type": "code",
   "execution_count": null,
   "metadata": {},
   "outputs": [],
   "source": [
    "# Re-apply PCA to the data while selecting for number of components to retain.\n",
    "\n"
   ]
  },
  {
   "cell_type": "markdown",
   "metadata": {},
   "source": [
    "### Discussion 2.2: Perform Dimensionality Reduction\n",
    "\n",
    "(Double-click this cell and replace this text with your own text, reporting your findings and decisions regarding dimensionality reduction. How many principal components / transformed features are you retaining for the next step of the analysis?)"
   ]
  },
  {
   "cell_type": "markdown",
   "metadata": {},
   "source": [
    "### Step 2.3: Interpret Principal Components\n",
    "\n",
    "Now that we have our transformed principal components, it's a nice idea to check out the weight of each variable on the first few components to see if they can be interpreted in some fashion.\n",
    "\n",
    "As a reminder, each principal component is a unit vector that points in the direction of highest variance (after accounting for the variance captured by earlier principal components). The further a weight is from zero, the more the principal component is in the direction of the corresponding feature. If two features have large weights of the same sign (both positive or both negative), then increases in one tend expect to be associated with increases in the other. To contrast, features with different signs can be expected to show a negative correlation: increases in one variable should result in a decrease in the other.\n",
    "\n",
    "- To investigate the features, you should map each weight to their corresponding feature name, then sort the features according to weight. The most interesting features for each principal component, then, will be those at the beginning and end of the sorted list. Use the data dictionary document to help you understand these most prominent features, their relationships, and what a positive or negative value on the principal component might indicate.\n",
    "- You should investigate and interpret feature associations from the first three principal components in this substep. To help facilitate this, you should write a function that you can call at any time to print the sorted list of feature weights, for the *i*-th principal component. This might come in handy in the next step of the project, when you interpret the tendencies of the discovered clusters."
   ]
  },
  {
   "cell_type": "code",
   "execution_count": null,
   "metadata": {},
   "outputs": [],
   "source": [
    "# Map weights for the first principal component to corresponding feature names\n",
    "# and then print the linked values, sorted by weight.\n",
    "# HINT: Try defining a function here or in a new cell that you can reuse in the\n",
    "# other cells.\n",
    "\n"
   ]
  },
  {
   "cell_type": "code",
   "execution_count": null,
   "metadata": {},
   "outputs": [],
   "source": [
    "# Map weights for the second principal component to corresponding feature names\n",
    "# and then print the linked values, sorted by weight.\n",
    "\n"
   ]
  },
  {
   "cell_type": "code",
   "execution_count": null,
   "metadata": {},
   "outputs": [],
   "source": [
    "# Map weights for the third principal component to corresponding feature names\n",
    "# and then print the linked values, sorted by weight.\n",
    "\n"
   ]
  },
  {
   "cell_type": "markdown",
   "metadata": {},
   "source": [
    "### Discussion 2.3: Interpret Principal Components\n",
    "\n",
    "(Double-click this cell and replace this text with your own text, reporting your observations from detailed investigation of the first few principal components generated. Can we interpret positive and negative values from them in a meaningful way?)"
   ]
  },
  {
   "cell_type": "markdown",
   "metadata": {},
   "source": [
    "## Step 3: Clustering\n",
    "\n",
    "### Step 3.1: Apply Clustering to General Population\n",
    "\n",
    "You've assessed and cleaned the demographics data, then scaled and transformed them. Now, it's time to see how the data clusters in the principal components space. In this substep, you will apply k-means clustering to the dataset and use the average within-cluster distances from each point to their assigned cluster's centroid to decide on a number of clusters to keep.\n",
    "\n",
    "- Use sklearn's [KMeans](http://scikit-learn.org/stable/modules/generated/sklearn.cluster.KMeans.html#sklearn.cluster.KMeans) class to perform k-means clustering on the PCA-transformed data.\n",
    "- Then, compute the average difference from each point to its assigned cluster's center. **Hint**: The KMeans object's `.score()` method might be useful here, but note that in sklearn, scores tend to be defined so that larger is better. Try applying it to a small, toy dataset, or use an internet search to help your understanding.\n",
    "- Perform the above two steps for a number of different cluster counts. You can then see how the average distance decreases with an increasing number of clusters. However, each additional cluster provides a smaller net benefit. Use this fact to select a final number of clusters in which to group the data. **Warning**: because of the large size of the dataset, it can take a long time for the algorithm to resolve. The more clusters to fit, the longer the algorithm will take. You should test for cluster counts through at least 10 clusters to get the full picture, but you shouldn't need to test for a number of clusters above about 30.\n",
    "- Once you've selected a final number of clusters to use, re-fit a KMeans instance to perform the clustering operation. Make sure that you also obtain the cluster assignments for the general demographics data, since you'll be using them in the final Step 3.3."
   ]
  },
  {
   "cell_type": "code",
   "execution_count": null,
   "metadata": {},
   "outputs": [],
   "source": [
    "# Over a number of different cluster counts...\n",
    "\n",
    "\n",
    "    # run k-means clustering on the data and...\n",
    "    \n",
    "    \n",
    "    # compute the average within-cluster distances.\n",
    "    \n",
    "    "
   ]
  },
  {
   "cell_type": "code",
   "execution_count": null,
   "metadata": {},
   "outputs": [],
   "source": [
    "# Investigate the change in within-cluster distance across number of clusters.\n",
    "# HINT: Use matplotlib's plot function to visualize this relationship.\n",
    "\n"
   ]
  },
  {
   "cell_type": "code",
   "execution_count": null,
   "metadata": {},
   "outputs": [],
   "source": [
    "# Re-fit the k-means model with the selected number of clusters and obtain\n",
    "# cluster predictions for the general population demographics data.\n",
    "\n"
   ]
  },
  {
   "cell_type": "markdown",
   "metadata": {},
   "source": [
    "### Discussion 3.1: Apply Clustering to General Population\n",
    "\n",
    "(Double-click this cell and replace this text with your own text, reporting your findings and decisions regarding clustering. Into how many clusters have you decided to segment the population?)"
   ]
  },
  {
   "cell_type": "markdown",
   "metadata": {},
   "source": [
    "### Step 3.2: Apply All Steps to the Customer Data\n",
    "\n",
    "Now that you have clusters and cluster centers for the general population, it's time to see how the customer data maps on to those clusters. Take care to not confuse this for re-fitting all of the models to the customer data. Instead, you're going to use the fits from the general population to clean, transform, and cluster the customer data. In the last step of the project, you will interpret how the general population fits apply to the customer data.\n",
    "\n",
    "- Don't forget when loading in the customers data, that it is semicolon (`;`) delimited.\n",
    "- Apply the same feature wrangling, selection, and engineering steps to the customer demographics using the `clean_data()` function you created earlier. (You can assume that the customer demographics data has similar meaning behind missing data patterns as the general demographics data.)\n",
    "- Use the sklearn objects from the general demographics data, and apply their transformations to the customers data. That is, you should not be using a `.fit()` or `.fit_transform()` method to re-fit the old objects, nor should you be creating new sklearn objects! Carry the data through the feature scaling, PCA, and clustering steps, obtaining cluster assignments for all of the data in the customer demographics data."
   ]
  },
  {
   "cell_type": "code",
   "execution_count": null,
   "metadata": {},
   "outputs": [],
   "source": [
    "# Load in the customer demographics data.\n",
    "customers = "
   ]
  },
  {
   "cell_type": "code",
   "execution_count": null,
   "metadata": {},
   "outputs": [],
   "source": [
    "# Apply preprocessing, feature transformation, and clustering from the general\n",
    "# demographics onto the customer data, obtaining cluster predictions for the\n",
    "# customer demographics data.\n",
    "\n"
   ]
  },
  {
   "cell_type": "markdown",
   "metadata": {},
   "source": [
    "### Step 3.3: Compare Customer Data to Demographics Data\n",
    "\n",
    "At this point, you have clustered data based on demographics of the general population of Germany, and seen how the customer data for a mail-order sales company maps onto those demographic clusters. In this final substep, you will compare the two cluster distributions to see where the strongest customer base for the company is.\n",
    "\n",
    "Consider the proportion of persons in each cluster for the general population, and the proportions for the customers. If we think the company's customer base to be universal, then the cluster assignment proportions should be fairly similar between the two. If there are only particular segments of the population that are interested in the company's products, then we should see a mismatch from one to the other. If there is a higher proportion of persons in a cluster for the customer data compared to the general population (e.g. 5% of persons are assigned to a cluster for the general population, but 15% of the customer data is closest to that cluster's centroid) then that suggests the people in that cluster to be a target audience for the company. On the other hand, the proportion of the data in a cluster being larger in the general population than the customer data (e.g. only 2% of customers closest to a population centroid that captures 6% of the data) suggests that group of persons to be outside of the target demographics.\n",
    "\n",
    "Take a look at the following points in this step:\n",
    "\n",
    "- Compute the proportion of data points in each cluster for the general population and the customer data. Visualizations will be useful here: both for the individual dataset proportions, but also to visualize the ratios in cluster representation between groups. Seaborn's [`countplot()`](https://seaborn.pydata.org/generated/seaborn.countplot.html) or [`barplot()`](https://seaborn.pydata.org/generated/seaborn.barplot.html) function could be handy.\n",
    "  - Recall the analysis you performed in step 1.1.3 of the project, where you separated out certain data points from the dataset if they had more than a specified threshold of missing values. If you found that this group was qualitatively different from the main bulk of the data, you should treat this as an additional data cluster in this analysis. Make sure that you account for the number of data points in this subset, for both the general population and customer datasets, when making your computations!\n",
    "- Which cluster or clusters are overrepresented in the customer dataset compared to the general population? Select at least one such cluster and infer what kind of people might be represented by that cluster. Use the principal component interpretations from step 2.3 or look at additional components to help you make this inference. Alternatively, you can use the `.inverse_transform()` method of the PCA and StandardScaler objects to transform centroids back to the original data space and interpret the retrieved values directly.\n",
    "- Perform a similar investigation for the underrepresented clusters. Which cluster or clusters are underrepresented in the customer dataset compared to the general population, and what kinds of people are typified by these clusters?"
   ]
  },
  {
   "cell_type": "code",
   "execution_count": null,
   "metadata": {},
   "outputs": [],
   "source": [
    "# Compare the proportion of data in each cluster for the customer data to the\n",
    "# proportion of data in each cluster for the general population.\n",
    "\n"
   ]
  },
  {
   "cell_type": "code",
   "execution_count": null,
   "metadata": {},
   "outputs": [],
   "source": [
    "# What kinds of people are part of a cluster that is overrepresented in the\n",
    "# customer data compared to the general population?\n",
    "\n"
   ]
  },
  {
   "cell_type": "code",
   "execution_count": null,
   "metadata": {},
   "outputs": [],
   "source": [
    "# What kinds of people are part of a cluster that is underrepresented in the\n",
    "# customer data compared to the general population?\n",
    "\n"
   ]
  },
  {
   "cell_type": "markdown",
   "metadata": {},
   "source": [
    "### Discussion 3.3: Compare Customer Data to Demographics Data\n",
    "\n",
    "(Double-click this cell and replace this text with your own text, reporting findings and conclusions from the clustering analysis. Can we describe segments of the population that are relatively popular with the mail-order company, or relatively unpopular with the company?)"
   ]
  },
  {
   "cell_type": "markdown",
   "metadata": {},
   "source": [
    "> Congratulations on making it this far in the project! Before you finish, make sure to check through the entire notebook from top to bottom to make sure that your analysis follows a logical flow and all of your findings are documented in **Discussion** cells. Once you've checked over all of your work, you should export the notebook as an HTML document to submit for evaluation. You can do this from the menu, navigating to **File -> Download as -> HTML (.html)**. You will submit both that document and this notebook for your project submission."
   ]
  },
  {
   "cell_type": "code",
   "execution_count": null,
   "metadata": {},
   "outputs": [],
   "source": []
  }
 ],
 "metadata": {
  "kernelspec": {
   "display_name": "Python 3",
   "language": "python",
   "name": "python3"
  },
  "language_info": {
   "codemirror_mode": {
    "name": "ipython",
    "version": 3
   },
   "file_extension": ".py",
   "mimetype": "text/x-python",
   "name": "python",
   "nbconvert_exporter": "python",
   "pygments_lexer": "ipython3",
   "version": "3.6.3"
  }
 },
 "nbformat": 4,
 "nbformat_minor": 2
}
